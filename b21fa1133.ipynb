{
  "metadata": {
    "language_info": {
      "codemirror_mode": {
        "name": "python",
        "version": 3
      },
      "file_extension": ".py",
      "mimetype": "text/x-python",
      "name": "python",
      "nbconvert_exporter": "python",
      "pygments_lexer": "ipython3",
      "version": "3.8"
    },
    "kernelspec": {
      "name": "python",
      "display_name": "Python (Pyodide)",
      "language": "python"
    }
  },
  "nbformat_minor": 4,
  "nbformat": 4,
  "cells": [
    {
      "cell_type": "code",
      "source": "import numpy as np\n\narr = np.arange(50, 101)\nprint(\"Array:\")\nprint(arr)\n",
      "metadata": {
        "trusted": true
      },
      "execution_count": 29,
      "outputs": [
        {
          "name": "stdout",
          "text": "Array:\n[ 50  51  52  53  54  55  56  57  58  59  60  61  62  63  64  65  66  67\n  68  69  70  71  72  73  74  75  76  77  78  79  80  81  82  83  84  85\n  86  87  88  89  90  91  92  93  94  95  96  97  98  99 100]\n",
          "output_type": "stream"
        }
      ]
    },
    {
      "cell_type": "code",
      "source": "import numpy as np\n\narr = np.concatenate((np.ones(10), np.zeros(10), 6 * np.ones(10)))\nprint(\"Task 2 Array:\")\nprint(arr)\n\n",
      "metadata": {
        "trusted": true
      },
      "execution_count": 30,
      "outputs": [
        {
          "name": "stdout",
          "text": "Task 2 Array:\n[1. 1. 1. 1. 1. 1. 1. 1. 1. 1. 0. 0. 0. 0. 0. 0. 0. 0. 0. 0. 6. 6. 6. 6.\n 6. 6. 6. 6. 6. 6.]\n",
          "output_type": "stream"
        }
      ]
    },
    {
      "cell_type": "code",
      "source": "import numpy as np\n\narr = np.arange(20, 32).reshape(3, 4)\nprint(\"Array:\")\nprint(arr)\n",
      "metadata": {
        "trusted": true
      },
      "execution_count": 22,
      "outputs": [
        {
          "name": "stdout",
          "text": "Array:\n[[20 21 22 23]\n [24 25 26 27]\n [28 29 30 31]]\n",
          "output_type": "stream"
        }
      ]
    },
    {
      "cell_type": "code",
      "source": "import numpy as np\n\narr_task = np.eye(3)\nprint(\"Array:\")\nprint(arr)\n",
      "metadata": {
        "trusted": true
      },
      "execution_count": 26,
      "outputs": [
        {
          "name": "stdout",
          "text": "Array:\n[[1 2 3]\n [4 5 6]\n [7 8 9]]\n",
          "output_type": "stream"
        }
      ]
    },
    {
      "cell_type": "code",
      "source": "import numpy as np\n\narr = np.diag(np.arange(1, 6))\nprint(\"Array:\")\nprint(arr)\n",
      "metadata": {
        "trusted": true
      },
      "execution_count": 24,
      "outputs": [
        {
          "name": "stdout",
          "text": "Array:\n[[1 0 0 0 0]\n [0 2 0 0 0]\n [0 0 3 0 0]\n [0 0 0 4 0]\n [0 0 0 0 5]]\n",
          "output_type": "stream"
        }
      ]
    },
    {
      "cell_type": "code",
      "source": "import numpy as np\n\narr = np.array([[1, 2, 3], [4, 5, 6], [7, 8, 9]])\ntotal_sum = np.sum(arr)\ncolumn_sums = np.sum(arr, axis=0)\nrow_sums = np.sum(arr, axis=1)\n\nprint(\"Task 6 Array:\")\nprint(arr)\nprint(\"Total Sum:\", total_sum)\nprint(\"Column Sums:\", column_sums)\nprint(\"Row Sums:\", row_sums)\n\n",
      "metadata": {
        "trusted": true
      },
      "execution_count": 25,
      "outputs": [
        {
          "name": "stdout",
          "text": "Task 6 Array:\n[[1 2 3]\n [4 5 6]\n [7 8 9]]\nTotal Sum: 45\nColumn Sums: [12 15 18]\nRow Sums: [ 6 15 24]\n",
          "output_type": "stream"
        }
      ]
    },
    {
      "cell_type": "code",
      "source": "import numpy as np\n\nnp.random.seed(0)\n\n# Toglogchdiin too\nnum_players = 10\nnum_years = 10\n\n# Tsalingiin data uusgeh\ntsalin = np.random.randint(1, 20, size=(num_players, num_years)) * 1000000\n\n# Niit togloson tooni data uusgeh\ntogloson = np.random.randint(0, 40, size=(num_players, num_years))\n\n# Goal hiisen tooni data\ngoal = np.random.randint(0, 40, size=(num_players, num_years))\n\n# toglogch bolgon deer array uusgeh\nplayer_data = []\n\nfor player_idx in range(num_players):\n    player_tsalin = tsalin[player_idx]\n    player_togloson = togloson[player_idx]\n    player_goal = goal[player_idx]\n    \n    player_array = np.array([player_tsalin, player_togloson, player_goal])\n    player_data.append(player_array)\n\n# Convert player_data to a NumPy array\nplayers_array = np.array(player_data)\n\n# Calculate the sum of columns and rows for each player\ncolumn_sums = np.sum(players_array, axis=1)\nrow_sums = np.sum(players_array, axis=0)\n\n# Print the data and sums\nfor player_idx in range(num_players):\n    print(f\"Player {player_idx + 1} Data:\")\n    print(\"tsalin ( $ million):\", players_array[player_idx, 0])\n    print(\"togloson:\", players_array[player_idx, 1])\n    print(\"goal:\", players_array[player_idx, 2])\n    print(\"Column Sums:\", column_sums[player_idx])\n    print()\n\nprint(\"toglogchdin data niit:\")\nprint(\"tsalin ( $ million):\", row_sums[0])\nprint(\"togloson:\", row_sums[1])\nprint(\"goal:\", row_sums[2])\n",
      "metadata": {
        "trusted": true
      },
      "execution_count": 34,
      "outputs": [
        {
          "name": "stdout",
          "text": "Player 1 Data:\ntsalin ( $ million): [13000000 16000000  1000000  4000000  4000000  8000000 10000000 19000000\n  5000000  7000000]\ntogloson: [23  2 34 35 30  3 18 35 20 17]\ngoal: [ 3 26  3 31  9 10 27  7 39 21]\nColumn Sums: [13000026 16000028  1000037  4000066  4000039  8000013 10000045 19000042\n  5000059  7000038]\n\nPlayer 2 Data:\ntsalin ( $ million): [13000000  2000000  7000000  8000000 15000000 18000000  6000000 14000000\n  9000000 10000000]\ntogloson: [27 14  1 36 10 22 11  2 16 32]\ngoal: [33 34 34 24 33  5 36  0 11 34]\nColumn Sums: [13000060  2000048  7000035  8000060 15000043 18000027  6000047 14000002\n  9000027 10000066]\n\nPlayer 3 Data:\ntsalin ( $ million): [17000000  6000000 16000000 16000000  1000000 19000000  4000000 18000000\n 15000000  8000000]\ntogloson: [ 0 38 19 13 30 24  2  3 30 34]\ngoal: [ 5 16  8  1 17 35 27 36 25  3]\nColumn Sums: [17000005  6000054 16000027 16000014  1000047 19000059  4000029 18000039\n 15000055  8000037]\n\nPlayer 4 Data:\ntsalin ( $ million): [ 1000000  2000000 10000000  1000000 11000000  4000000 12000000 19000000\n  3000000  1000000]\ntogloson: [13  8 19 31  8 26  2  3 14 32]\ngoal: [39 35 30 29 33 18 17 29 20  2]\nColumn Sums: [ 1000052  2000043 10000049  1000060 11000041  4000044 12000019 19000032\n  3000034  1000034]\n\nPlayer 5 Data:\ntsalin ( $ million): [ 1000000  5000000  6000000  7000000  9000000 18000000 16000000  5000000\n 10000000 11000000]\ntogloson: [ 4  3 11 22 13 11 16 24 29 21]\ngoal: [ 5 37 12  2 27 21 39 39 11 22]\nColumn Sums: [ 1000009  5000040  6000023  7000024  9000040 18000032 16000055  5000063\n 10000040 11000043]\n\nPlayer 6 Data:\ntsalin ( $ million): [ 2000000  2000000  8000000 10000000  4000000  7000000 12000000 15000000\n 19000000  1000000]\ntogloson: [25 16 19 33 32 36  6 21 31 13]\ngoal: [30 17  6  7 18 28 19 29 21  9]\nColumn Sums: [ 2000055  2000033  8000025 10000040  4000050  7000064 12000025 15000050\n 19000052  1000022]\n\nPlayer 7 Data:\ntsalin ( $ million): [15000000  4000000 13000000 11000000 12000000  5000000  7000000  5000000\n 16000000  4000000]\ntogloson: [ 7 24 15 18 15 11 38 29  1 31]\ngoal: [25 32 27  9 28 17  0 22 16 36]\nColumn Sums: [15000032  4000056 13000042 11000027 12000043  5000028  7000038  5000051\n 16000017  4000067]\n\nPlayer 8 Data:\ntsalin ( $ million): [13000000  5000000  9000000 15000000 16000000  4000000 16000000 14000000\n 17000000 18000000]\ntogloson: [24 24  3 18  3 12 38 35 22  5]\ngoal: [30 24  3  8 27 29 23 32 19  8]\nColumn Sums: [13000054  5000048  9000006 15000026 16000030  4000041 16000061 14000067\n 17000041 18000013]\n\nPlayer 9 Data:\ntsalin ( $ million): [ 6000000 10000000  4000000  1000000  6000000  1000000 18000000 19000000\n  5000000  3000000]\ntogloson: [23 32 11 20 10 37 28  2 27 19]\ngoal: [ 7 23 13 17  0 11 28 36 25 32]\nColumn Sums: [ 6000030 10000055  4000024  1000037  6000010  1000048 18000056 19000038\n  5000052  3000051]\n\nPlayer 10 Data:\ntsalin ( $ million): [17000000  4000000  3000000 11000000 14000000 17000000  8000000 10000000\n  1000000 11000000]\ntogloson: [25 23 20 29  3 35 39  9  9 23]\ngoal: [14 22 28 20 18  4 22 35 19  7]\nColumn Sums: [17000039  4000045  3000048 11000049 14000021 17000039  8000061 10000044\n  1000028 11000030]\n\ntoglogchdin data niit:\ntsalin ( $ million): [ 98000000  56000000  77000000  84000000  92000000 101000000 109000000\n 138000000 100000000  74000000]\ntogloson: [171 184 152 255 154 217 198 163 199 227]\ngoal: [191 266 164 148 210 178 238 265 206 174]\n",
          "output_type": "stream"
        }
      ]
    },
    {
      "cell_type": "code",
      "source": "",
      "metadata": {},
      "execution_count": null,
      "outputs": []
    },
    {
      "cell_type": "code",
      "source": "",
      "metadata": {},
      "execution_count": null,
      "outputs": []
    }
  ]
}